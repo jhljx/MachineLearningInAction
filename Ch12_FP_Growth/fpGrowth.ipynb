{
 "cells": [
  {
   "cell_type": "markdown",
   "metadata": {},
   "source": [
    "### FP树：用于编码数据集的有效方式"
   ]
  },
  {
   "cell_type": "markdown",
   "metadata": {},
   "source": [
    "FP-growth算法比Apriori算法更快，它基于Apriori构建，但在完成相同任务时采用了不同的技术。这里的任务是将数据集存储在一个特定的称为FP树的结构之后发现频繁项集。"
   ]
  },
  {
   "cell_type": "markdown",
   "metadata": {},
   "source": [
    "FP-growth算法只需要对数据集进行两次扫描，而Apriori算法对于每个潜在的频繁项集都会扫描数据集判定给定模式是否频繁，因而FP-growth算法的速度要比Apriori算法快。"
   ]
  },
  {
   "cell_type": "markdown",
   "metadata": {},
   "source": [
    "FP-growth算法发现频繁项集的基本过程如下：  \n",
    "\n",
    "- 构建FP树\n",
    "- 从FP树挖掘频繁项集"
   ]
  },
  {
   "cell_type": "markdown",
   "metadata": {},
   "source": [
    "FP-growth算法的优缺点：\n",
    "\n",
    "- 优点：一般要快于Apriori\n",
    "- 缺点：实现比较困难，在某些数据集上性能会下降\n",
    "- 适用数据类型：标称型数据"
   ]
  },
  {
   "cell_type": "markdown",
   "metadata": {},
   "source": [
    "FP-growth算法将数据存储在一种称为FP树的紧凑数据结构中。FP代表**频繁模式(Frequent Pattern)** 。一棵FP树是通过link链接来连接相似元素，被连接起来的元素项可以看成一个链表。同搜索树不同的是，一个元素项可以在一棵FP树中出现多次。FP树会存储**项集的出现频率**，而每个项集会以**路径**的方式存储在树中。  \n",
    "\n",
    "存在相似元素的集合会共享树的一部分。只有当集合之间完全不同时，树才会分叉。  \n",
    "树节点上给出集合中的单个元素及其在序列中的出现次数，路径会给出该序列的出现次数。  \n",
    "相似项之间的链接即**节点链接(node link)** ，用于快速发现相似项的位置。"
   ]
  },
  {
   "cell_type": "markdown",
   "metadata": {},
   "source": [
    "FP-growth算法一般流程\n",
    "\n",
    "(1) 收集数据：使用任意方法。  \n",
    "(2) 准备数据：由于存储的是集合，所以需要离散数据。如果要处理连续数据，需要将它们量化为离散值。  \n",
    "(3) 分析数据：使用任意方法。  \n",
    "(4) 训练算法：构建一个FP树，并对树进行挖掘。  \n",
    "(5) 测试算法：没有测试过程。  \n",
    "(6) 使用算法：可用于识别经常出现的元素项，从而用于制定决策、推荐元素或进行预测等应用中。  "
   ]
  },
  {
   "cell_type": "markdown",
   "metadata": {},
   "source": [
    "### 构建FP树"
   ]
  },
  {
   "cell_type": "markdown",
   "metadata": {},
   "source": [
    "#### 创建FP树的数据结构"
   ]
  },
  {
   "cell_type": "code",
   "execution_count": 56,
   "metadata": {},
   "outputs": [],
   "source": [
    "import fpGrowth"
   ]
  },
  {
   "cell_type": "code",
   "execution_count": 57,
   "metadata": {},
   "outputs": [],
   "source": [
    "rootNode = fpGrowth.treeNode('pyramid', 9, None)"
   ]
  },
  {
   "cell_type": "code",
   "execution_count": 58,
   "metadata": {},
   "outputs": [],
   "source": [
    "rootNode.children['eye'] = fpGrowth.treeNode('eye', 13, None)"
   ]
  },
  {
   "cell_type": "code",
   "execution_count": 59,
   "metadata": {},
   "outputs": [
    {
     "name": "stdout",
     "output_type": "stream",
     "text": [
      "\tpyramid \t9\n",
      "\t\teye \t13\n"
     ]
    }
   ],
   "source": [
    "rootNode.disp()"
   ]
  },
  {
   "cell_type": "code",
   "execution_count": 60,
   "metadata": {},
   "outputs": [],
   "source": [
    "rootNode.children['phoenix'] = fpGrowth.treeNode('phoenix', 3, None)"
   ]
  },
  {
   "cell_type": "code",
   "execution_count": 61,
   "metadata": {},
   "outputs": [
    {
     "name": "stdout",
     "output_type": "stream",
     "text": [
      "\tpyramid \t9\n",
      "\t\teye \t13\n",
      "\t\tphoenix \t3\n"
     ]
    }
   ],
   "source": [
    "rootNode.disp()"
   ]
  },
  {
   "cell_type": "markdown",
   "metadata": {},
   "source": [
    "#### 构建FP树"
   ]
  },
  {
   "cell_type": "markdown",
   "metadata": {},
   "source": [
    "这里面的重点是建树的过程，主要为createTree函数。该函数使用数据集和最小支持度作为参数来构建FP树。\n",
    "\n",
    "树构建过程**遍历数据集两次**。  \n",
    "第一次遍历扫描数据集并统计每个元素项出现的频度，并将频度保存在头指针表中。  \n",
    "扫描头指针表删掉出现次数小于minSup(最小支持度)的项。  \n",
    "遍历数据集(只考虑频繁项的每一条事务)，对每一条事务中的元素进行**频数大小排序**，并根据此来建树(更新树，调用updateTree方法)。  \n",
    "updateTree函数会调用每一条事务，并根据此来更新树节点。  \n",
    "此外在updateTree函数中会调用updateHeader函数，这个函数用来将每个元素的链表串接起来。例如，树的不同分支都有'x'这个字母，需要用头指针将'x'全部连起来形成链表。"
   ]
  },
  {
   "cell_type": "code",
   "execution_count": 62,
   "metadata": {},
   "outputs": [
    {
     "data": {
      "text/plain": [
       "<module 'fpGrowth' from 'fpGrowth.py'>"
      ]
     },
     "execution_count": 62,
     "metadata": {},
     "output_type": "execute_result"
    }
   ],
   "source": [
    "reload(fpGrowth)"
   ]
  },
  {
   "cell_type": "code",
   "execution_count": 63,
   "metadata": {},
   "outputs": [],
   "source": [
    "simpDat = fpGrowth.loadSimpDat()"
   ]
  },
  {
   "cell_type": "code",
   "execution_count": 64,
   "metadata": {},
   "outputs": [
    {
     "data": {
      "text/plain": [
       "[['r', 'z', 'h', 'j', 'p'],\n",
       " ['z', 'y', 'x', 'w', 'v', 'u', 't', 's'],\n",
       " ['z'],\n",
       " ['r', 'x', 'n', 'o', 's'],\n",
       " ['y', 'r', 'x', 'z', 'q', 't', 'p'],\n",
       " ['y', 'z', 'x', 'e', 'q', 's', 't', 'm']]"
      ]
     },
     "execution_count": 64,
     "metadata": {},
     "output_type": "execute_result"
    }
   ],
   "source": [
    "simpDat"
   ]
  },
  {
   "cell_type": "code",
   "execution_count": 65,
   "metadata": {},
   "outputs": [],
   "source": [
    "initSet = fpGrowth.createInitSet(simpDat)"
   ]
  },
  {
   "cell_type": "code",
   "execution_count": 66,
   "metadata": {},
   "outputs": [
    {
     "data": {
      "text/plain": [
       "{frozenset({'e', 'm', 'q', 's', 't', 'x', 'y', 'z'}): 1,\n",
       " frozenset({'n', 'o', 'r', 's', 'x'}): 1,\n",
       " frozenset({'z'}): 1,\n",
       " frozenset({'s', 't', 'u', 'v', 'w', 'x', 'y', 'z'}): 1,\n",
       " frozenset({'p', 'q', 'r', 't', 'x', 'y', 'z'}): 1,\n",
       " frozenset({'h', 'j', 'p', 'r', 'z'}): 1}"
      ]
     },
     "execution_count": 66,
     "metadata": {},
     "output_type": "execute_result"
    }
   ],
   "source": [
    "initSet"
   ]
  },
  {
   "cell_type": "code",
   "execution_count": 67,
   "metadata": {},
   "outputs": [],
   "source": [
    "myFPtree, myHeaderTab = fpGrowth.createTree(initSet, 3)"
   ]
  },
  {
   "cell_type": "code",
   "execution_count": 68,
   "metadata": {},
   "outputs": [
    {
     "name": "stdout",
     "output_type": "stream",
     "text": [
      "\tNULL Set \t1\n",
      "\t\tx \t1\n",
      "\t\t\ts \t1\n",
      "\t\t\t\tr \t1\n",
      "\t\tz \t5\n",
      "\t\t\tx \t3\n",
      "\t\t\t\ty \t3\n",
      "\t\t\t\t\ts \t2\n",
      "\t\t\t\t\t\tt \t2\n",
      "\t\t\t\t\tr \t1\n",
      "\t\t\t\t\t\tt \t1\n",
      "\t\t\tr \t1\n"
     ]
    }
   ],
   "source": [
    "myFPtree.disp()"
   ]
  },
  {
   "cell_type": "code",
   "execution_count": 102,
   "metadata": {},
   "outputs": [
    {
     "data": {
      "text/plain": [
       "{'r': [3, <fpGrowth.treeNode instance at 0x043141E8>],\n",
       " 's': [3, <fpGrowth.treeNode instance at 0x043140F8>],\n",
       " 't': [3, <fpGrowth.treeNode instance at 0x043140D0>],\n",
       " 'x': [4, <fpGrowth.treeNode instance at 0x043142B0>],\n",
       " 'y': [3, <fpGrowth.treeNode instance at 0x04314288>],\n",
       " 'z': [5, <fpGrowth.treeNode instance at 0x04243B98>]}"
      ]
     },
     "execution_count": 102,
     "metadata": {},
     "output_type": "execute_result"
    }
   ],
   "source": [
    "myHeaderTab"
   ]
  },
  {
   "cell_type": "markdown",
   "metadata": {},
   "source": [
    "### 从FP中挖掘频繁项集"
   ]
  },
  {
   "cell_type": "markdown",
   "metadata": {},
   "source": [
    "从FP树中挖掘频繁项集的基本步骤如下：\n",
    "\n",
    "1. 从FP树中获得条件模式基\n",
    "2. 利用条件模式基，构建一个条件FP树\n",
    "3. 迭代重复步骤(1)和(2)，直到树包含一个元素项为止"
   ]
  },
  {
   "cell_type": "markdown",
   "metadata": {},
   "source": [
    "#### 抽取条件模式基"
   ]
  },
  {
   "cell_type": "markdown",
   "metadata": {},
   "source": [
    "从上一节中的头指针表的中抽取。对于每个元素项，获得其对应的**条件模式基**(conditional pattern base)。  \n",
    "**条件模式基**是以所查找元素项为结尾的路径集合。每一条路径其实都是一条**前缀路径**(prefix path)。简而言之，一条前缀路径是介于所查找元素项与根节点之间的所有内容。  \n",
    "符号x的前缀路径为FP树中每条到x的路径的前缀(x元素前的部分)形成的集合。每条前缀路径都与一个计数值关联，该计数值为树中符号x节点出现的频数。"
   ]
  },
  {
   "cell_type": "code",
   "execution_count": 90,
   "metadata": {},
   "outputs": [
    {
     "data": {
      "text/plain": [
       "<module 'fpGrowth' from 'fpGrowth.py'>"
      ]
     },
     "execution_count": 90,
     "metadata": {},
     "output_type": "execute_result"
    }
   ],
   "source": [
    "reload(fpGrowth)"
   ]
  },
  {
   "cell_type": "code",
   "execution_count": 91,
   "metadata": {},
   "outputs": [
    {
     "data": {
      "text/plain": [
       "{('z',): 3}"
      ]
     },
     "execution_count": 91,
     "metadata": {},
     "output_type": "execute_result"
    }
   ],
   "source": [
    "fpGrowth.findPrefixPath('x', myHeaderTab['x'][1])"
   ]
  },
  {
   "cell_type": "code",
   "execution_count": 92,
   "metadata": {},
   "outputs": [
    {
     "data": {
      "text/plain": [
       "{}"
      ]
     },
     "execution_count": 92,
     "metadata": {},
     "output_type": "execute_result"
    }
   ],
   "source": [
    "fpGrowth.findPrefixPath('x', myHeaderTab['z'][1])"
   ]
  },
  {
   "cell_type": "code",
   "execution_count": 111,
   "metadata": {},
   "outputs": [
    {
     "data": {
      "text/plain": [
       "{('x', 's'): 1, ('z',): 1, ('z', 'x', 'y'): 1}"
      ]
     },
     "execution_count": 111,
     "metadata": {},
     "output_type": "execute_result"
    }
   ],
   "source": [
    "fpGrowth.findPrefixPath('r', myHeaderTab['r'][1])"
   ]
  },
  {
   "cell_type": "code",
   "execution_count": 112,
   "metadata": {},
   "outputs": [
    {
     "data": {
      "text/plain": [
       "{('z', 'x', 'y', 'r'): 1, ('z', 'x', 'y', 's'): 2}"
      ]
     },
     "execution_count": 112,
     "metadata": {},
     "output_type": "execute_result"
    }
   ],
   "source": [
    "fpGrowth.findPrefixPath('t', myHeaderTab['t'][1])"
   ]
  },
  {
   "cell_type": "markdown",
   "metadata": {},
   "source": [
    "#### 创建条件FP树"
   ]
  },
  {
   "cell_type": "markdown",
   "metadata": {},
   "source": [
    "程序中的mineTree函数对头指针表中的元素项按照其出现频率进行排序，默认是从小到大。"
   ]
  },
  {
   "cell_type": "code",
   "execution_count": 141,
   "metadata": {},
   "outputs": [
    {
     "data": {
      "text/plain": [
       "<module 'fpGrowth' from 'fpGrowth.py'>"
      ]
     },
     "execution_count": 141,
     "metadata": {},
     "output_type": "execute_result"
    }
   ],
   "source": [
    "reload(fpGrowth)"
   ]
  },
  {
   "cell_type": "code",
   "execution_count": 142,
   "metadata": {},
   "outputs": [],
   "source": [
    "freqItems = []"
   ]
  },
  {
   "cell_type": "code",
   "execution_count": 143,
   "metadata": {},
   "outputs": [
    {
     "name": "stdout",
     "output_type": "stream",
     "text": [
      "bigL:  ['t', 's', 'r', 'y', 'x', 'z'] ; level:  1\n",
      "basePat:  t ; level:  1\n",
      "condPattBases:  {('z', 'x', 'y', 'r'): 1, ('z', 'x', 'y', 's'): 2}\n",
      "headerTable:  {'y': 3, 'x': 3, 'z': 3}\n",
      "conditional tree for:  set(['t'])\n",
      "\tNULL Set \t1\n",
      "\t\ty \t3\n",
      "\t\t\tx \t3\n",
      "\t\t\t\tz \t3\n",
      "bigL:  ['x', 'y', 'z'] ; level:  2\n",
      "basePat:  x ; level:  2\n",
      "condPattBases:  {('y',): 3}\n",
      "headerTable:  {'y': 3}\n",
      "conditional tree for:  set(['x', 't'])\n",
      "\tNULL Set \t1\n",
      "\t\ty \t3\n",
      "bigL:  ['y'] ; level:  3\n",
      "basePat:  y ; level:  3\n",
      "condPattBases:  {}\n",
      "headerTable:  {}\n",
      "basePat:  y ; level:  2\n",
      "condPattBases:  {}\n",
      "headerTable:  {}\n",
      "basePat:  z ; level:  2\n",
      "condPattBases:  {('y', 'x'): 3}\n",
      "headerTable:  {'y': 3, 'x': 3}\n",
      "conditional tree for:  set(['z', 't'])\n",
      "\tNULL Set \t1\n",
      "\t\ty \t3\n",
      "\t\t\tx \t3\n",
      "bigL:  ['y', 'x'] ; level:  3\n",
      "basePat:  y ; level:  3\n",
      "condPattBases:  {}\n",
      "headerTable:  {}\n",
      "basePat:  x ; level:  3\n",
      "condPattBases:  {('y',): 3}\n",
      "headerTable:  {'y': 3}\n",
      "conditional tree for:  set(['x', 'z', 't'])\n",
      "\tNULL Set \t1\n",
      "\t\ty \t3\n",
      "bigL:  ['y'] ; level:  4\n",
      "basePat:  y ; level:  4\n",
      "condPattBases:  {}\n",
      "headerTable:  {}\n",
      "basePat:  s ; level:  1\n",
      "condPattBases:  {('z', 'x', 'y'): 2, ('x',): 1}\n",
      "headerTable:  {'x': 3}\n",
      "conditional tree for:  set(['s'])\n",
      "\tNULL Set \t1\n",
      "\t\tx \t3\n",
      "bigL:  ['x'] ; level:  2\n",
      "basePat:  x ; level:  2\n",
      "condPattBases:  {}\n",
      "headerTable:  {}\n",
      "basePat:  r ; level:  1\n",
      "condPattBases:  {('x', 's'): 1, ('z', 'x', 'y'): 1, ('z',): 1}\n",
      "headerTable:  {}\n",
      "basePat:  y ; level:  1\n",
      "condPattBases:  {('z', 'x'): 3}\n",
      "headerTable:  {'x': 3, 'z': 3}\n",
      "conditional tree for:  set(['y'])\n",
      "\tNULL Set \t1\n",
      "\t\tx \t3\n",
      "\t\t\tz \t3\n",
      "bigL:  ['z', 'x'] ; level:  2\n",
      "basePat:  z ; level:  2\n",
      "condPattBases:  {('x',): 3}\n",
      "headerTable:  {'x': 3}\n",
      "conditional tree for:  set(['y', 'z'])\n",
      "\tNULL Set \t1\n",
      "\t\tx \t3\n",
      "bigL:  ['x'] ; level:  3\n",
      "basePat:  x ; level:  3\n",
      "condPattBases:  {}\n",
      "headerTable:  {}\n",
      "basePat:  x ; level:  2\n",
      "condPattBases:  {}\n",
      "headerTable:  {}\n",
      "basePat:  x ; level:  1\n",
      "condPattBases:  {('z',): 3}\n",
      "headerTable:  {'z': 3}\n",
      "conditional tree for:  set(['x'])\n",
      "\tNULL Set \t1\n",
      "\t\tz \t3\n",
      "bigL:  ['z'] ; level:  2\n",
      "basePat:  z ; level:  2\n",
      "condPattBases:  {}\n",
      "headerTable:  {}\n",
      "basePat:  z ; level:  1\n",
      "condPattBases:  {}\n",
      "headerTable:  {}\n"
     ]
    }
   ],
   "source": [
    "fpGrowth.mineTree(myFPtree, myHeaderTab, 3, set([]), freqItems)"
   ]
  },
  {
   "cell_type": "code",
   "execution_count": 144,
   "metadata": {},
   "outputs": [
    {
     "data": {
      "text/plain": [
       "[{'t'},\n",
       " {'t', 'x'},\n",
       " {'t', 'x', 'y'},\n",
       " {'t', 'y'},\n",
       " {'t', 'z'},\n",
       " {'t', 'y', 'z'},\n",
       " {'t', 'x', 'z'},\n",
       " {'t', 'x', 'y', 'z'},\n",
       " {'s'},\n",
       " {'s', 'x'},\n",
       " {'r'},\n",
       " {'y'},\n",
       " {'y', 'z'},\n",
       " {'x', 'y', 'z'},\n",
       " {'x', 'y'},\n",
       " {'x'},\n",
       " {'x', 'z'},\n",
       " {'z'}]"
      ]
     },
     "execution_count": 144,
     "metadata": {},
     "output_type": "execute_result"
    }
   ],
   "source": [
    "freqItems"
   ]
  },
  {
   "cell_type": "code",
   "execution_count": null,
   "metadata": {},
   "outputs": [],
   "source": []
  }
 ],
 "metadata": {
  "kernelspec": {
   "display_name": "Python 2",
   "language": "python",
   "name": "python2"
  },
  "language_info": {
   "codemirror_mode": {
    "name": "ipython",
    "version": 2
   },
   "file_extension": ".py",
   "mimetype": "text/x-python",
   "name": "python",
   "nbconvert_exporter": "python",
   "pygments_lexer": "ipython2",
   "version": "2.7.13"
  },
  "toc": {
   "nav_menu": {},
   "number_sections": true,
   "sideBar": true,
   "skip_h1_title": false,
   "toc_cell": false,
   "toc_position": {},
   "toc_section_display": "block",
   "toc_window_display": true
  }
 },
 "nbformat": 4,
 "nbformat_minor": 2
}
