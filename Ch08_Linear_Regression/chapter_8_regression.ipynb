{
 "cells": [
  {
   "cell_type": "markdown",
   "metadata": {},
   "source": [
    "### 1. 标准回归函数拟合"
   ]
  },
  {
   "cell_type": "code",
   "execution_count": 1,
   "metadata": {},
   "outputs": [],
   "source": [
    "import regression"
   ]
  },
  {
   "cell_type": "code",
   "execution_count": 2,
   "metadata": {},
   "outputs": [],
   "source": [
    "import numpy as np"
   ]
  },
  {
   "cell_type": "code",
   "execution_count": 3,
   "metadata": {},
   "outputs": [],
   "source": [
    "xArr, yArr = regression.loadDataSet('ex0.txt')"
   ]
  },
  {
   "cell_type": "code",
   "execution_count": 4,
   "metadata": {},
   "outputs": [
    {
     "data": {
      "text/plain": [
       "[[1.0, 0.067732], [1.0, 0.42781]]"
      ]
     },
     "execution_count": 4,
     "metadata": {},
     "output_type": "execute_result"
    }
   ],
   "source": [
    "xArr[0:2]"
   ]
  },
  {
   "cell_type": "code",
   "execution_count": 5,
   "metadata": {},
   "outputs": [
    {
     "data": {
      "text/plain": [
       "[3.176513, 3.816464]"
      ]
     },
     "execution_count": 5,
     "metadata": {},
     "output_type": "execute_result"
    }
   ],
   "source": [
    "yArr[0:2]"
   ]
  },
  {
   "cell_type": "code",
   "execution_count": 6,
   "metadata": {},
   "outputs": [],
   "source": [
    "ws = regression.standRegres(xArr, yArr)"
   ]
  },
  {
   "cell_type": "code",
   "execution_count": 7,
   "metadata": {},
   "outputs": [
    {
     "data": {
      "text/plain": [
       "matrix([[ 3.00774324],\n",
       "        [ 1.69532264]])"
      ]
     },
     "execution_count": 7,
     "metadata": {},
     "output_type": "execute_result"
    }
   ],
   "source": [
    "ws"
   ]
  },
  {
   "cell_type": "code",
   "execution_count": 8,
   "metadata": {},
   "outputs": [],
   "source": [
    "xMat = np.mat(xArr)"
   ]
  },
  {
   "cell_type": "code",
   "execution_count": 9,
   "metadata": {},
   "outputs": [],
   "source": [
    "yMat = np.mat(yArr)"
   ]
  },
  {
   "cell_type": "code",
   "execution_count": 10,
   "metadata": {},
   "outputs": [],
   "source": [
    "yHat = xMat*ws"
   ]
  },
  {
   "cell_type": "code",
   "execution_count": 11,
   "metadata": {},
   "outputs": [],
   "source": [
    "import matplotlib.pyplot as plt"
   ]
  },
  {
   "cell_type": "code",
   "execution_count": 12,
   "metadata": {},
   "outputs": [],
   "source": [
    "fig = plt.figure()"
   ]
  },
  {
   "cell_type": "code",
   "execution_count": 13,
   "metadata": {},
   "outputs": [],
   "source": [
    "ax = fig.add_subplot(111)"
   ]
  },
  {
   "cell_type": "code",
   "execution_count": 14,
   "metadata": {},
   "outputs": [
    {
     "data": {
      "text/plain": [
       "<matplotlib.collections.PathCollection at 0x3e6d090>"
      ]
     },
     "execution_count": 14,
     "metadata": {},
     "output_type": "execute_result"
    }
   ],
   "source": [
    "ax.scatter(xMat[:,1].flatten().A[0], yMat.T[:,0].flatten().A[0])"
   ]
  },
  {
   "cell_type": "code",
   "execution_count": 15,
   "metadata": {},
   "outputs": [],
   "source": [
    "xCopy = xMat.copy()"
   ]
  },
  {
   "cell_type": "code",
   "execution_count": 16,
   "metadata": {},
   "outputs": [],
   "source": [
    "xCopy.sort(0)"
   ]
  },
  {
   "cell_type": "code",
   "execution_count": 17,
   "metadata": {},
   "outputs": [],
   "source": [
    "yHat = xCopy * ws"
   ]
  },
  {
   "cell_type": "code",
   "execution_count": 18,
   "metadata": {},
   "outputs": [
    {
     "data": {
      "text/plain": [
       "[<matplotlib.lines.Line2D at 0x8238170>]"
      ]
     },
     "execution_count": 18,
     "metadata": {},
     "output_type": "execute_result"
    }
   ],
   "source": [
    "ax.plot(xCopy[:,1], yHat)"
   ]
  },
  {
   "cell_type": "code",
   "execution_count": 19,
   "metadata": {},
   "outputs": [
    {
     "data": {
      "image/png": "[encoded data removed]",
      "text/plain": [
       "<matplotlib.figure.Figure at 0x80cb230>"
      ]
     },
     "metadata": {},
     "output_type": "display_data"
    }
   ],
   "source": [
    "plt.show()"
   ]
  },
  {
   "cell_type": "code",
   "execution_count": 20,
   "metadata": {},
   "outputs": [],
   "source": [
    "yHat = xMat * ws"
   ]
  },
  {
   "cell_type": "code",
   "execution_count": 21,
   "metadata": {},
   "outputs": [
    {
     "data": {
      "text/plain": [
       "array([[ 1.        ,  0.98647356],\n",
       "       [ 0.98647356,  1.        ]])"
      ]
     },
     "execution_count": 21,
     "metadata": {},
     "output_type": "execute_result"
    }
   ],
   "source": [
    "np.corrcoef(yHat.T, yMat) #yHat和yMat的相关系数为0.98"
   ]
  },
  {
   "cell_type": "markdown",
   "metadata": {},
   "source": [
    "### 2. 局部线性回归法"
   ]
  },
  {
   "cell_type": "code",
   "execution_count": 22,
   "metadata": {},
   "outputs": [],
   "source": [
    "xArr, yArr = regression.loadDataSet('ex0.txt')"
   ]
  },
  {
   "cell_type": "code",
   "execution_count": 23,
   "metadata": {},
   "outputs": [
    {
     "data": {
      "text/plain": [
       "3.176513"
      ]
     },
     "execution_count": 23,
     "metadata": {},
     "output_type": "execute_result"
    }
   ],
   "source": [
    "yArr[0]"
   ]
  },
  {
   "cell_type": "code",
   "execution_count": 24,
   "metadata": {},
   "outputs": [
    {
     "data": {
      "text/plain": [
       "matrix([[ 3.12204471]])"
      ]
     },
     "execution_count": 24,
     "metadata": {},
     "output_type": "execute_result"
    }
   ],
   "source": [
    "regression.lwlr(xArr[0], xArr, yArr, 1.0)"
   ]
  },
  {
   "cell_type": "code",
   "execution_count": 25,
   "metadata": {},
   "outputs": [
    {
     "data": {
      "text/plain": [
       "matrix([[ 3.20175729]])"
      ]
     },
     "execution_count": 25,
     "metadata": {},
     "output_type": "execute_result"
    }
   ],
   "source": [
    "regression.lwlr(xArr[0], xArr, yArr, 0.001)"
   ]
  },
  {
   "cell_type": "code",
   "execution_count": 26,
   "metadata": {},
   "outputs": [],
   "source": [
    "yHat = regression.lwlrTest(xArr, xArr, yArr, 1.0)"
   ]
  },
  {
   "cell_type": "code",
   "execution_count": 27,
   "metadata": {},
   "outputs": [
    {
     "data": {
      "image/png": "[encoded data removed]",
      "text/plain": [
       "<matplotlib.figure.Figure at 0x8224f70>"
      ]
     },
     "metadata": {},
     "output_type": "display_data"
    }
   ],
   "source": [
    "regression.drawFigure(xArr, yArr, yHat)"
   ]
  },
  {
   "cell_type": "code",
   "execution_count": 28,
   "metadata": {},
   "outputs": [],
   "source": [
    "yHat = regression.lwlrTest(xArr, xArr, yArr, 0.01)"
   ]
  },
  {
   "cell_type": "code",
   "execution_count": 29,
   "metadata": {},
   "outputs": [
    {
     "data": {
      "image/png": "[encoded data removed]",
      "text/plain": [
       "<matplotlib.figure.Figure at 0x84510d0>"
      ]
     },
     "metadata": {},
     "output_type": "display_data"
    }
   ],
   "source": [
    "regression.drawFigure(xArr, yArr, yHat)"
   ]
  },
  {
   "cell_type": "code",
   "execution_count": 30,
   "metadata": {},
   "outputs": [],
   "source": [
    "yHat = regression.lwlrTest(xArr, xArr, yArr, 0.003)"
   ]
  },
  {
   "cell_type": "code",
   "execution_count": 31,
   "metadata": {},
   "outputs": [
    {
     "data": {
      "image/png": "[encoded data removed]",
      "text/plain": [
       "<matplotlib.figure.Figure at 0x8576a50>"
      ]
     },
     "metadata": {},
     "output_type": "display_data"
    }
   ],
   "source": [
    "regression.drawFigure(xArr, yArr, yHat)"
   ]
  },
  {
   "cell_type": "markdown",
   "metadata": {},
   "source": [
    "### 3. 预测鲍鱼年龄"
   ]
  },
  {
   "cell_type": "code",
   "execution_count": 32,
   "metadata": {},
   "outputs": [],
   "source": [
    "abX, abY = regression.loadDataSet('abalone.txt')"
   ]
  },
  {
   "cell_type": "code",
   "execution_count": 33,
   "metadata": {},
   "outputs": [],
   "source": [
    "yHat01 = regression.lwlrTest(abX[0:99], abX[0:99], abY[0:99], 0.1)"
   ]
  },
  {
   "cell_type": "code",
   "execution_count": 34,
   "metadata": {},
   "outputs": [],
   "source": [
    "yHat1 = regression.lwlrTest(abX[0:99], abX[0:99], abY[0:99], 1)"
   ]
  },
  {
   "cell_type": "code",
   "execution_count": 35,
   "metadata": {},
   "outputs": [],
   "source": [
    "yHat10 = regression.lwlrTest(abX[0:99], abX[0:99], abY[0:99], 10)"
   ]
  },
  {
   "cell_type": "code",
   "execution_count": 36,
   "metadata": {},
   "outputs": [
    {
     "data": {
      "text/plain": [
       "<module 'regression' from 'regression.pyc'>"
      ]
     },
     "execution_count": 36,
     "metadata": {},
     "output_type": "execute_result"
    }
   ],
   "source": [
    "reload(regression)"
   ]
  },
  {
   "cell_type": "code",
   "execution_count": 37,
   "metadata": {},
   "outputs": [
    {
     "data": {
      "text/plain": [
       "56.790348630125777"
      ]
     },
     "execution_count": 37,
     "metadata": {},
     "output_type": "execute_result"
    }
   ],
   "source": [
    "regression.rssError(abY[0:99], yHat01.T)"
   ]
  },
  {
   "cell_type": "code",
   "execution_count": 38,
   "metadata": {},
   "outputs": [
    {
     "data": {
      "text/plain": [
       "429.89056187011255"
      ]
     },
     "execution_count": 38,
     "metadata": {},
     "output_type": "execute_result"
    }
   ],
   "source": [
    "regression.rssError(abY[0:99], yHat1.T)"
   ]
  },
  {
   "cell_type": "code",
   "execution_count": 39,
   "metadata": {},
   "outputs": [
    {
     "data": {
      "text/plain": [
       "549.11817088275757"
      ]
     },
     "execution_count": 39,
     "metadata": {},
     "output_type": "execute_result"
    }
   ],
   "source": [
    "regression.rssError(abY[0:99], yHat10.T)"
   ]
  },
  {
   "cell_type": "markdown",
   "metadata": {},
   "source": [
    "使用小的核函数得到的误差较低，会使得训练误差变小，但容易过拟合。"
   ]
  },
  {
   "cell_type": "code",
   "execution_count": 40,
   "metadata": {},
   "outputs": [],
   "source": [
    "yHat01 = regression.lwlrTest(abX[100:199], abX[0:99], abY[0:99], 0.1)"
   ]
  },
  {
   "cell_type": "code",
   "execution_count": 41,
   "metadata": {},
   "outputs": [],
   "source": [
    "yHat1 = regression.lwlrTest(abX[100:199], abX[0:99], abY[0:99], 1)"
   ]
  },
  {
   "cell_type": "code",
   "execution_count": 42,
   "metadata": {},
   "outputs": [],
   "source": [
    "yHat10 = regression.lwlrTest(abX[100:199], abX[0:99], abY[0:99], 10)"
   ]
  },
  {
   "cell_type": "code",
   "execution_count": 43,
   "metadata": {},
   "outputs": [
    {
     "data": {
      "text/plain": [
       "34763.549819890402"
      ]
     },
     "execution_count": 43,
     "metadata": {},
     "output_type": "execute_result"
    }
   ],
   "source": [
    "regression.rssError(abY[100:199], yHat01.T)"
   ]
  },
  {
   "cell_type": "code",
   "execution_count": 44,
   "metadata": {},
   "outputs": [
    {
     "data": {
      "text/plain": [
       "573.52614418940152"
      ]
     },
     "execution_count": 44,
     "metadata": {},
     "output_type": "execute_result"
    }
   ],
   "source": [
    "regression.rssError(abY[100:199], yHat1.T)"
   ]
  },
  {
   "cell_type": "code",
   "execution_count": 45,
   "metadata": {},
   "outputs": [
    {
     "data": {
      "text/plain": [
       "517.57119053826784"
      ]
     },
     "execution_count": 45,
     "metadata": {},
     "output_type": "execute_result"
    }
   ],
   "source": [
    "regression.rssError(abY[100:199], yHat10.T)"
   ]
  },
  {
   "cell_type": "markdown",
   "metadata": {},
   "source": [
    "从上面看出kernel size = 10时测试误差最小，在训练集上误差最大"
   ]
  },
  {
   "cell_type": "code",
   "execution_count": 46,
   "metadata": {},
   "outputs": [],
   "source": [
    "ws = regression.standRegres(abX[0:99], abY[0:99])"
   ]
  },
  {
   "cell_type": "code",
   "execution_count": 47,
   "metadata": {},
   "outputs": [],
   "source": [
    "yHat = np.mat(abX[100:199]) * ws"
   ]
  },
  {
   "cell_type": "code",
   "execution_count": 48,
   "metadata": {},
   "outputs": [
    {
     "data": {
      "text/plain": [
       "518.63631532417139"
      ]
     },
     "execution_count": 48,
     "metadata": {},
     "output_type": "execute_result"
    }
   ],
   "source": [
    "regression.rssError(abY[100:199], yHat.T.A)"
   ]
  },
  {
   "cell_type": "markdown",
   "metadata": {},
   "source": [
    "### 4. 解决特征维数比样本数大的问题"
   ]
  },
  {
   "cell_type": "markdown",
   "metadata": {},
   "source": [
    "在这种情况下，不能使用之前的方法。因为在求$(X^{T}X)^{-1}$的时候出错，矩阵是奇异矩阵，无法求逆。"
   ]
  },
  {
   "cell_type": "markdown",
   "metadata": {},
   "source": [
    "#### 4. 1 岭回归"
   ]
  },
  {
   "cell_type": "markdown",
   "metadata": {},
   "source": [
    "岭回归原理是在矩阵$X^{T}X$上加一个$\\lambda I$使得矩阵非奇异，进而能对$X^{T}X+\\lambda I$求逆。则新的回归系数计算公式变为如下："
   ]
  },
  {
   "cell_type": "markdown",
   "metadata": {},
   "source": [
    "$$\\hat w = (X^{T}X+\\lambda I)^{-1}X^{T}y$$"
   ]
  },
  {
   "cell_type": "markdown",
   "metadata": {},
   "source": [
    "岭回归最先用来处理特征数多于样本数的情况，现在也用于**在估计中加入偏差**，从而得到更好的估计。这里通过引入$\\lambda$来限制所有w之和，通过**引入该惩罚项**，能够减少不重要的参数，这种技术在统计学中称为**缩减(shrinkage)**。\n",
    "\n",
    "岭回归需要对数据xMat和yMat都进行归一化（可以减均值除以方差）"
   ]
  },
  {
   "cell_type": "code",
   "execution_count": 49,
   "metadata": {},
   "outputs": [
    {
     "data": {
      "text/plain": [
       "<module 'regression' from 'regression.pyc'>"
      ]
     },
     "execution_count": 49,
     "metadata": {},
     "output_type": "execute_result"
    }
   ],
   "source": [
    "reload(regression)"
   ]
  },
  {
   "cell_type": "code",
   "execution_count": 50,
   "metadata": {},
   "outputs": [],
   "source": [
    "abX, abY = regression.loadDataSet('abalone.txt')"
   ]
  },
  {
   "cell_type": "code",
   "execution_count": 51,
   "metadata": {},
   "outputs": [],
   "source": [
    "ridgeWeights = regression.ridgeTest(abX, abY)"
   ]
  },
  {
   "cell_type": "code",
   "execution_count": 52,
   "metadata": {},
   "outputs": [
    {
     "data": {
      "image/png": "[encoded data removed]",
      "text/plain": [
       "<matplotlib.figure.Figure at 0x86bb690>"
      ]
     },
     "metadata": {},
     "output_type": "display_data"
    }
   ],
   "source": [
    "fig = plt.figure()\n",
    "ax = fig.add_subplot(111)\n",
    "ax.plot(ridgeWeights)  #这里之所以显示8条线，原因是ax.plot在绘制2-D mat的时候，将会按列进行绘制\n",
    "plt.show()"
   ]
  },
  {
   "cell_type": "code",
   "execution_count": 53,
   "metadata": {},
   "outputs": [
    {
     "name": "stdout",
     "output_type": "stream",
     "text": [
      "(30, 8)\n"
     ]
    }
   ],
   "source": [
    "print np.shape(ridgeWeights)"
   ]
  },
  {
   "cell_type": "markdown",
   "metadata": {},
   "source": [
    "#### 4.2 lasso方法"
   ]
  },
  {
   "cell_type": "markdown",
   "metadata": {},
   "source": [
    "lasso方法与岭回归方法的不同之处在于，岭回归相当于在求cost function的时候加上了w的平方项约束。\n",
    "$$J(w) = (y - Xw)^{T}(y - Xw) + \\lambda w^{T}w$$\n",
    "而lasso的约束条件将平方和换成了绝对值，即\n",
    "$$J(w) = (y - Xw)^{T}(y - Xw) + \\lambda |w|$$\n",
    "在$\\lambda$足够小的时候，一些系数被迫缩减到0，这个特性可以帮助我们更好地理解数据。"
   ]
  },
  {
   "cell_type": "markdown",
   "metadata": {},
   "source": [
    "#### 4.3 前向逐步回归法"
   ]
  },
  {
   "cell_type": "markdown",
   "metadata": {},
   "source": [
    "该算法可得到与lasso差不多的效果，贪心算法（每一步都尽可能减少误差）。初始权重均为1，然后每步决策是对某个权重增加或减少一个很小的值。  \n",
    "伪代码如下："
   ]
  },
  {
   "cell_type": "markdown",
   "metadata": {},
   "source": [
    "    数据标准化（使其分布满足0均值，单位方差）\n",
    "    在每轮迭代过程中：\n",
    "       设置当前最小误差lowestError为正无穷\n",
    "       对每个特征：\n",
    "         增大或缩小：\n",
    "           改变一个系数得到一个新的W\n",
    "           计算新W下的误差\n",
    "           如果误差Error小于当前最小误差lowestError：设置Wbest等于当前W\n",
    "         将W设置为新的Wbest"
   ]
  },
  {
   "cell_type": "code",
   "execution_count": 54,
   "metadata": {},
   "outputs": [
    {
     "data": {
      "text/plain": [
       "<module 'regression' from 'regression.pyc'>"
      ]
     },
     "execution_count": 54,
     "metadata": {},
     "output_type": "execute_result"
    }
   ],
   "source": [
    "reload(regression)"
   ]
  },
  {
   "cell_type": "code",
   "execution_count": 55,
   "metadata": {},
   "outputs": [],
   "source": [
    "xArr, yArr = regression.loadDataSet('abalone.txt')"
   ]
  },
  {
   "cell_type": "code",
   "execution_count": 56,
   "metadata": {},
   "outputs": [
    {
     "name": "stdout",
     "output_type": "stream",
     "text": [
      "[[ 5.06631554]\n",
      " [-2.93368446]\n",
      " [-0.93368446]\n",
      " ..., \n",
      " [-0.93368446]\n",
      " [ 0.06631554]\n",
      " [ 2.06631554]]\n",
      "--------------\n",
      "[[ 0.  0.  0.  0.  0.  0.  0.  0.]]\n",
      "[[ 0.    0.    0.    0.01  0.    0.    0.    0.  ]]\n",
      "[[ 0.    0.    0.    0.02  0.    0.    0.    0.  ]]\n",
      "[[ 0.    0.    0.    0.03  0.    0.    0.    0.  ]]\n",
      "[[ 0.    0.    0.    0.04  0.    0.    0.    0.  ]]\n",
      "[[ 0.    0.    0.    0.05  0.    0.    0.    0.  ]]\n",
      "[[ 0.    0.    0.    0.06  0.    0.    0.    0.  ]]\n",
      "[[ 0.    0.    0.01  0.06  0.    0.    0.    0.  ]]\n",
      "[[ 0.    0.    0.01  0.06  0.    0.    0.    0.01]]\n",
      "[[ 0.    0.    0.01  0.06  0.    0.    0.    0.02]]\n",
      "...\n",
      "[[ 0.04  0.    0.09  0.03  0.31 -0.64  0.    0.36]]\n",
      "[[ 0.05  0.    0.09  0.03  0.31 -0.64  0.    0.36]]\n",
      "[[ 0.04  0.    0.09  0.03  0.31 -0.64  0.    0.36]]\n",
      "[[ 0.05  0.    0.09  0.03  0.31 -0.64  0.    0.36]]\n",
      "[[ 0.04  0.    0.09  0.03  0.31 -0.64  0.    0.36]]\n",
      "[[ 0.05  0.    0.09  0.03  0.31 -0.64  0.    0.36]]\n",
      "[[ 0.04  0.    0.09  0.03  0.31 -0.64  0.    0.36]]\n",
      "[[ 0.05  0.    0.09  0.03  0.31 -0.64  0.    0.36]]\n",
      "[[ 0.04  0.    0.09  0.03  0.31 -0.64  0.    0.36]]\n"
     ]
    },
    {
     "data": {
      "text/plain": [
       "array([[ 0.  ,  0.  ,  0.  , ...,  0.  ,  0.  ,  0.  ],\n",
       "       [ 0.  ,  0.  ,  0.  , ...,  0.  ,  0.  ,  0.  ],\n",
       "       [ 0.  ,  0.  ,  0.  , ...,  0.  ,  0.  ,  0.  ],\n",
       "       ..., \n",
       "       [ 0.05,  0.  ,  0.09, ..., -0.64,  0.  ,  0.36],\n",
       "       [ 0.04,  0.  ,  0.09, ..., -0.64,  0.  ,  0.36],\n",
       "       [ 0.05,  0.  ,  0.09, ..., -0.64,  0.  ,  0.36]])"
      ]
     },
     "execution_count": 56,
     "metadata": {},
     "output_type": "execute_result"
    }
   ],
   "source": [
    "regression.stageWise(xArr, yArr, 0.01, 200) #步长太大，w0在0.04和0.05之间震荡"
   ]
  },
  {
   "cell_type": "code",
   "execution_count": 57,
   "metadata": {},
   "outputs": [
    {
     "name": "stdout",
     "output_type": "stream",
     "text": [
      "[[ 5.06631554]\n",
      " [-2.93368446]\n",
      " [-0.93368446]\n",
      " ..., \n",
      " [-0.93368446]\n",
      " [ 0.06631554]\n",
      " [ 2.06631554]]\n",
      "--------------\n",
      "[[ 0.  0.  0.  0.  0.  0.  0.  0.]]\n",
      "[[ 0.     0.     0.     0.001  0.     0.     0.     0.   ]]\n",
      "[[ 0.     0.     0.     0.002  0.     0.     0.     0.   ]]\n",
      "[[ 0.     0.     0.     0.003  0.     0.     0.     0.   ]]\n",
      "[[ 0.     0.     0.     0.004  0.     0.     0.     0.   ]]\n",
      "[[ 0.     0.     0.     0.005  0.     0.     0.     0.   ]]\n",
      "[[ 0.     0.     0.     0.006  0.     0.     0.     0.   ]]\n",
      "[[ 0.     0.     0.     0.007  0.     0.     0.     0.   ]]\n",
      "[[ 0.     0.     0.     0.008  0.     0.     0.     0.   ]]\n",
      "[[ 0.     0.     0.     0.009  0.     0.     0.     0.   ]]\n",
      "...\n",
      "[[ 0.044 -0.011  0.12   0.022  2.023 -0.963 -0.105  0.187]]\n",
      "[[ 0.043 -0.011  0.12   0.022  2.023 -0.963 -0.105  0.187]]\n",
      "[[ 0.044 -0.011  0.12   0.022  2.023 -0.963 -0.105  0.187]]\n",
      "[[ 0.043 -0.011  0.12   0.022  2.023 -0.963 -0.105  0.187]]\n",
      "[[ 0.044 -0.011  0.12   0.022  2.023 -0.963 -0.105  0.187]]\n",
      "[[ 0.043 -0.011  0.12   0.022  2.023 -0.963 -0.105  0.187]]\n",
      "[[ 0.044 -0.011  0.12   0.022  2.023 -0.963 -0.105  0.187]]\n",
      "[[ 0.043 -0.011  0.12   0.022  2.023 -0.963 -0.105  0.187]]\n",
      "[[ 0.044 -0.011  0.12   0.022  2.023 -0.963 -0.105  0.187]]\n"
     ]
    },
    {
     "data": {
      "text/plain": [
       "array([[ 0.   ,  0.   ,  0.   , ...,  0.   ,  0.   ,  0.   ],\n",
       "       [ 0.   ,  0.   ,  0.   , ...,  0.   ,  0.   ,  0.   ],\n",
       "       [ 0.   ,  0.   ,  0.   , ...,  0.   ,  0.   ,  0.   ],\n",
       "       ..., \n",
       "       [ 0.043, -0.011,  0.12 , ..., -0.963, -0.105,  0.187],\n",
       "       [ 0.044, -0.011,  0.12 , ..., -0.963, -0.105,  0.187],\n",
       "       [ 0.043, -0.011,  0.12 , ..., -0.963, -0.105,  0.187]])"
      ]
     },
     "execution_count": 57,
     "metadata": {},
     "output_type": "execute_result"
    }
   ],
   "source": [
    "regression.stageWise(xArr, yArr, 0.001, 5000)"
   ]
  },
  {
   "cell_type": "code",
   "execution_count": 58,
   "metadata": {},
   "outputs": [
    {
     "data": {
      "text/plain": [
       "matrix([[ 0.0430442 , -0.02274163,  0.13214087,  0.02075182,  2.22403814,\n",
       "         -0.99895312, -0.11725427,  0.16622915]])"
      ]
     },
     "execution_count": 58,
     "metadata": {},
     "output_type": "execute_result"
    }
   ],
   "source": [
    "xMat = np.mat(xArr)\n",
    "yMat = np.mat(yArr).T\n",
    "xMat = regression.regularize(xMat)\n",
    "yM = np.mean(yMat, 0)\n",
    "yMat = yMat - yM\n",
    "weights = regression.standRegres(xMat, yMat.T)\n",
    "weights.T  #可见5000次迭代之后，逐步线性回归法与常规最小二乘法效果类似"
   ]
  },
  {
   "cell_type": "code",
   "execution_count": 59,
   "metadata": {},
   "outputs": [
    {
     "name": "stdout",
     "output_type": "stream",
     "text": [
      "[[ 5.06631554]\n",
      " [-2.93368446]\n",
      " [-0.93368446]\n",
      " ..., \n",
      " [-0.93368446]\n",
      " [ 0.06631554]\n",
      " [ 2.06631554]]\n",
      "--------------\n",
      "[[ 0.  0.  0.  0.  0.  0.  0.  0.]]\n",
      "[[ 0.     0.     0.     0.005  0.     0.     0.     0.   ]]\n",
      "[[ 0.    0.    0.    0.01  0.    0.    0.    0.  ]]\n",
      "[[ 0.     0.     0.     0.015  0.     0.     0.     0.   ]]\n",
      "[[ 0.    0.    0.    0.02  0.    0.    0.    0.  ]]\n",
      "[[ 0.     0.     0.     0.025  0.     0.     0.     0.   ]]\n",
      "[[ 0.    0.    0.    0.03  0.    0.    0.    0.  ]]\n",
      "[[ 0.     0.     0.     0.035  0.     0.     0.     0.   ]]\n",
      "[[ 0.    0.    0.    0.04  0.    0.    0.    0.  ]]\n",
      "[[ 0.     0.     0.     0.045  0.     0.     0.     0.   ]]\n",
      "...\n",
      "[[ 0.04   0.     0.105  0.025  1.295 -0.83  -0.06   0.26 ]]\n",
      "[[ 0.045  0.     0.105  0.025  1.295 -0.83  -0.06   0.26 ]]\n",
      "[[ 0.04   0.     0.105  0.025  1.295 -0.83  -0.06   0.26 ]]\n",
      "[[ 0.045  0.     0.105  0.025  1.295 -0.83  -0.06   0.26 ]]\n",
      "[[ 0.04   0.     0.105  0.025  1.295 -0.83  -0.06   0.26 ]]\n",
      "[[ 0.045  0.     0.105  0.025  1.295 -0.83  -0.06   0.26 ]]\n",
      "[[ 0.04   0.     0.105  0.025  1.295 -0.83  -0.06   0.26 ]]\n",
      "[[ 0.045  0.     0.105  0.025  1.295 -0.83  -0.06   0.26 ]]\n",
      "[[ 0.04   0.     0.105  0.025  1.295 -0.83  -0.06   0.26 ]]\n"
     ]
    }
   ],
   "source": [
    "weights = regression.stageWise(xArr, yArr, 0.005, 1000)"
   ]
  },
  {
   "cell_type": "code",
   "execution_count": 60,
   "metadata": {},
   "outputs": [
    {
     "data": {
      "image/png": "[encoded data removed]",
      "text/plain": [
       "<matplotlib.figure.Figure at 0x8629fb0>"
      ]
     },
     "metadata": {},
     "output_type": "display_data"
    }
   ],
   "source": [
    "fig = plt.figure()\n",
    "ax = fig.add_subplot(111)\n",
    "ax.plot(weights)\n",
    "plt.show()"
   ]
  },
  {
   "cell_type": "markdown",
   "metadata": {},
   "source": [
    "逐步线性回归法的一个好处是构建了模型之后，便于运行该算法**找出重要的特征**，这样就有可能及时停止对不重要特征的收集。  \n",
    "应用这种缩减方法(岭回归或者逐步线性回归)会使模型增加bias(偏差)，减少variance(方差)。"
   ]
  },
  {
   "cell_type": "markdown",
   "metadata": {},
   "source": [
    "#### 5. balance bias and variance"
   ]
  },
  {
   "cell_type": "markdown",
   "metadata": {},
   "source": [
    "训练误差和测试误差由三个部分组成：偏差，测量误差和随机噪声。第2节和第3节通过引入3个越来越小的核不断增大模型方差。第4节的缩减法将一系列系数缩减成很小的值或直接缩减为0，这样会增大模型的偏差。"
   ]
  },
  {
   "cell_type": "markdown",
   "metadata": {},
   "source": [
    "方差是模型之间的差异(模型之间参数的差异)，偏差是模型预测值和真实值之间的差异"
   ]
  },
  {
   "cell_type": "markdown",
   "metadata": {},
   "source": [
    "#### 6. 预测乐高玩具价格"
   ]
  },
  {
   "cell_type": "code",
   "execution_count": 61,
   "metadata": {},
   "outputs": [],
   "source": [
    "lgX = []\n",
    "lgY = []"
   ]
  },
  {
   "cell_type": "code",
   "execution_count": 62,
   "metadata": {},
   "outputs": [
    {
     "data": {
      "text/plain": [
       "<module 'regression' from 'regression.pyc'>"
      ]
     },
     "execution_count": 62,
     "metadata": {},
     "output_type": "execute_result"
    }
   ],
   "source": [
    "reload(regression)"
   ]
  },
  {
   "cell_type": "markdown",
   "metadata": {},
   "source": [
    "貌似API网址已经无法使用了，在使用urllib2.urlopen的时候会报错"
   ]
  }
 ],
 "metadata": {
  "kernelspec": {
   "display_name": "Python 2",
   "language": "python",
   "name": "python2"
  },
  "language_info": {
   "codemirror_mode": {
    "name": "ipython",
    "version": 2
   },
   "file_extension": ".py",
   "mimetype": "text/x-python",
   "name": "python",
   "nbconvert_exporter": "python",
   "pygments_lexer": "ipython2",
   "version": "2.7.13"
  }
 },
 "nbformat": 4,
 "nbformat_minor": 2
}
