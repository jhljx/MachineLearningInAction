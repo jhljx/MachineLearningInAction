{
 "cells": [
  {
   "cell_type": "markdown",
   "metadata": {},
   "source": [
    "### 基于数据集多重抽样的分类器"
   ]
  },
  {
   "cell_type": "markdown",
   "metadata": {},
   "source": [
    "**元算法(meta-algorithm)** 是对其他算法进行组合的一种方式。Adaboosting算法是最流行的元算法。\n",
    "\n",
    "将不同的分类器组合起来，这种组合结果被称为**集成方法(ensemble method)** 或者**元算法(meta-algorithm)** 。使用集成方法时会有多种形式：可以是不同算法的集成，也可以是同一算法在不同设置下的集成，还可以是数据集不同部分分配给不同分类器之后的集成。"
   ]
  },
  {
   "cell_type": "markdown",
   "metadata": {},
   "source": [
    "AdaBoost算法的优缺点\n",
    "\n",
    "- 优点：泛化错误低，易编码，可以应用在大部分分类器上，无参数调整。  \n",
    "- 缺点：对离群点敏感。  \n",
    "- 适用数据类型：数值型和标称型。"
   ]
  },
  {
   "cell_type": "markdown",
   "metadata": {},
   "source": [
    "#### bagging：基于数据随机重抽样的分类器构建算法"
   ]
  },
  {
   "cell_type": "markdown",
   "metadata": {},
   "source": [
    "**自举汇聚法(bootstrap aggregating)** 也称为bagging方法，是在从原始数据集选择S次后得到S个新数据集的一种技术。新数据集和原数据集的大小相等。每个数据集都是**通过在原始数据集中随机选择一个样本来进行替换**而得到的。这里的替换意味着可以**多次选择同一个样本** 。\n",
    "\n",
    "这个性质允许新的数据集中**可以有重复的值** 。更先进的bagging方法比如**随机森林(random forest)** 。"
   ]
  },
  {
   "cell_type": "markdown",
   "metadata": {},
   "source": [
    "#### boosting"
   ]
  },
  {
   "cell_type": "markdown",
   "metadata": {},
   "source": [
    "boosting是一种与bagging类似的技术。不管是在boosting还是在bagging中，所使用的多个分类器的类型都是一致的。但boosting不同的分类器是通过**串行训练** 获得的，每个新分类器都根据已训练出的分类器的性能来进行训练。boosting是通过**集中关注被已有分类器错分的那些数据**来获得新的分类器。"
   ]
  },
  {
   "cell_type": "markdown",
   "metadata": {},
   "source": [
    "boosting分类的结果是基于所有分类器的加权求和结果的，因此boosting与bagging不一样。**bagging中分类器的权重是相等的，boosting中分类器的权重并不相等**，每个权重代表的是其对应分类器在上一轮迭代中的成功度。"
   ]
  },
  {
   "cell_type": "markdown",
   "metadata": {},
   "source": [
    "AdaBoosting的一般流程\n",
    "\n",
    "(1)收集数据：可以使用任意方法。  \n",
    "(2)准备数据：依赖于所使用的弱分类器类型，本章使用的是单层决策树，这种分类器可以处理任何数据类型。当然也可以使用任意分类器作为弱分类器，第2章到第6章中的任一分类器都可以充当弱分类器。作为弱分类器，简单分类器的效果更好。  \n",
    "(3)分析数据：可以使用任意方法。  \n",
    "(4)训练算法：AdaBoost的大部分时间都用在训练上，分类器将多次在同一个数据集上训练弱分类器。  \n",
    "(5)测试算法：计算分类器的错误率。  \n",
    "(6)使用算法：同SVM一样，AdaBoost预测两个类别中的一个。如果想把它应用到多个类别的场景，那么就要像多类SVM中的做法一样对AdaBoost进行修改。"
   ]
  },
  {
   "cell_type": "markdown",
   "metadata": {},
   "source": [
    "### 训练算法：基于错误提升分类器的性能"
   ]
  },
  {
   "cell_type": "markdown",
   "metadata": {},
   "source": [
    "AdaBoost是adaptive boosting(自适应boosting)的缩写，其运行过程如下：\n",
    "\n",
    "训练数据中的每个样本，并赋予其一个权重，这些权重构成了向量D。一开始，这些权重都初始化成相等值。首先在训练数据上训练出一个弱分类器并计算该分类的错误率，然后在同一数据集上再次训练弱分类器，在分类器的第二次训练中，将会重新调整每个样本的权重，其中第一次分对的样本的权重将会降低，而第一次分错的样本权重将会提高。\n",
    "\n",
    "为了从所有弱分类器中得到最终的分类结果，AdaBoost为每个分类器都分配了一个权重值$\\alpha$，这些$\\alpha$值是**基于每个弱分类器的错误率**进行计算的。"
   ]
  },
  {
   "cell_type": "markdown",
   "metadata": {},
   "source": [
    "其中，错误率$\\varepsilon$计算公式为\n",
    "$$\\varepsilon = \\frac{未正确分类的样本数目}{所有样本数目}$$\n",
    "\n",
    "$\\alpha$的计算公式为：\n",
    "$$\\alpha = \\frac{1}{2}ln \\left( \\frac{1 - \\varepsilon}{\\varepsilon} \\right)$$\n",
    "\n",
    "计算出$\\alpha$值之后，可以对权重向量D进行更新，以使得那些**正确分类的样本的权重降低**而**错分样本的权重升高**。\n",
    "\n",
    "如果某个样本被正确分类，那么该样本的权重更改为：\n",
    "$$D_{i}^{(t+1)} = \\frac{D_{i}^{(t)}e^{-\\alpha}}{Sum(D)}$$\n",
    "如果某个样本未被正确分类，那么该样本的权重更改为：\n",
    "$$D_{i}^{(t+1)} = \\frac{D_{i}^{(t)}e^{\\alpha}}{Sum(D)}$$\n",
    "在计算出D之后，AdaBoost又进入下一轮迭代。AdaBoost算法会不断重复训练和调整权重的过程，直到训练错误率为0或者弱分类器的数目达到用户的指定值为止。"
   ]
  },
  {
   "cell_type": "markdown",
   "metadata": {},
   "source": [
    "### 基于单层决策树构建弱分类器"
   ]
  },
  {
   "cell_type": "markdown",
   "metadata": {},
   "source": [
    "本章采用基于单个特征的单层决策树来做决策。由于这棵树只有一次分裂过程，因此只是一个树桩。"
   ]
  },
  {
   "cell_type": "code",
   "execution_count": 251,
   "metadata": {},
   "outputs": [
    {
     "data": {
      "image/png": "[encoded data removed]",
      "text/plain": [
       "<matplotlib.figure.Figure at 0x8e33c10>"
      ]
     },
     "metadata": {},
     "output_type": "display_data"
    }
   ],
   "source": [
    "%run simpleDataPlot.py"
   ]
  },
  {
   "cell_type": "code",
   "execution_count": 252,
   "metadata": {},
   "outputs": [],
   "source": [
    "import adaboost"
   ]
  },
  {
   "cell_type": "code",
   "execution_count": 253,
   "metadata": {},
   "outputs": [
    {
     "data": {
      "text/plain": [
       "<module 'adaboost' from 'adaboost.pyc'>"
      ]
     },
     "execution_count": 253,
     "metadata": {},
     "output_type": "execute_result"
    }
   ],
   "source": [
    "reload(adaboost)"
   ]
  },
  {
   "cell_type": "code",
   "execution_count": 254,
   "metadata": {},
   "outputs": [],
   "source": [
    "datMat, classLabels = adaboost.loadSimpleData()"
   ]
  },
  {
   "cell_type": "markdown",
   "metadata": {},
   "source": [
    "构建单层决策树来作为弱分类器的伪代码如下：\n",
    "\n",
    "将最小错误率minError设置为$+\\infty$  \n",
    "对数据集中的每一个特征(第一层循环)：  \n",
    "　　对每个步长(第二层循环)：  \n",
    "   　　　　对每个不等号(第三层循环)：  \n",
    "      　　　　　　建立一棵单层决策树并利用加权数据集对它进行测试  \n",
    "          　　　　　　如果错误率低于minError，则将当前单层决策树设为最佳单层决策树  \n",
    "返回最佳单层决策树  "
   ]
  },
  {
   "cell_type": "code",
   "execution_count": 255,
   "metadata": {},
   "outputs": [],
   "source": [
    "import numpy as np"
   ]
  },
  {
   "cell_type": "code",
   "execution_count": 280,
   "metadata": {},
   "outputs": [
    {
     "data": {
      "text/plain": [
       "<module 'adaboost' from 'adaboost.py'>"
      ]
     },
     "execution_count": 280,
     "metadata": {},
     "output_type": "execute_result"
    }
   ],
   "source": [
    "reload(adaboost)"
   ]
  },
  {
   "cell_type": "code",
   "execution_count": 281,
   "metadata": {},
   "outputs": [],
   "source": [
    "D = np.mat(np.ones((5,1)) / 5)"
   ]
  },
  {
   "cell_type": "code",
   "execution_count": 282,
   "metadata": {},
   "outputs": [
    {
     "data": {
      "text/plain": [
       "({'dim': 0, 'ineq': 'lt', 'thresh': 1.3}, matrix([[ 0.2]]), array([[-1.],\n",
       "        [ 1.],\n",
       "        [-1.],\n",
       "        [-1.],\n",
       "        [ 1.]]))"
      ]
     },
     "execution_count": 282,
     "metadata": {},
     "output_type": "execute_result"
    }
   ],
   "source": [
    "adaboost.buildStump(datMat, classLabels, D)"
   ]
  },
  {
   "cell_type": "code",
   "execution_count": 283,
   "metadata": {},
   "outputs": [
    {
     "data": {
      "text/plain": [
       "<module 'adaboost' from 'adaboost.pyc'>"
      ]
     },
     "execution_count": 283,
     "metadata": {},
     "output_type": "execute_result"
    }
   ],
   "source": [
    "reload(adaboost)"
   ]
  },
  {
   "cell_type": "code",
   "execution_count": 284,
   "metadata": {},
   "outputs": [
    {
     "name": "stdout",
     "output_type": "stream",
     "text": [
      "D:  [[ 0.2  0.2  0.2  0.2  0.2]]\n",
      "classEst:  [[-1.  1. -1. -1.  1.]]\n",
      "aggClassEst： [[-0.69314718  0.69314718 -0.69314718 -0.69314718  0.69314718]]\n",
      "total error:  0.2\n",
      "D:  [[ 0.5    0.125  0.125  0.125  0.125]]\n",
      "classEst:  [[ 1.  1. -1. -1. -1.]]\n",
      "aggClassEst： [[ 0.27980789  1.66610226 -1.66610226 -1.66610226 -0.27980789]]\n",
      "total error:  0.2\n",
      "D:  [[ 0.28571429  0.07142857  0.07142857  0.07142857  0.5       ]]\n",
      "classEst:  [[ 1.  1.  1.  1.  1.]]\n",
      "aggClassEst： [[ 1.17568763  2.56198199 -0.77022252 -0.77022252  0.61607184]]\n",
      "total error:  0.0\n"
     ]
    }
   ],
   "source": [
    "classifierArray, aggClassEst = adaboost.adaBoostTrainDS(datMat, classLabels, 9)"
   ]
  },
  {
   "cell_type": "markdown",
   "metadata": {},
   "source": [
    "adaboost算法中的向量D非常重要，一开始这些权重都赋予了相同的值。在后续迭代中，adaboost算法会在增加错分数据的权重的同时，降低正确分类数据的权重。D是一个**概率分布向量** , 因此其所有元素之和为1.0。所以一开始所有元素都被初始化成1/m。"
   ]
  },
  {
   "cell_type": "code",
   "execution_count": 285,
   "metadata": {},
   "outputs": [
    {
     "data": {
      "text/plain": [
       "[{'alpha': 0.6931471805599453, 'dim': 0, 'ineq': 'lt', 'thresh': 1.3},\n",
       " {'alpha': 0.9729550745276565, 'dim': 1, 'ineq': 'lt', 'thresh': 1.0},\n",
       " {'alpha': 0.8958797346140273,\n",
       "  'dim': 0,\n",
       "  'ineq': 'lt',\n",
       "  'thresh': 0.90000000000000002}]"
      ]
     },
     "execution_count": 285,
     "metadata": {},
     "output_type": "execute_result"
    }
   ],
   "source": [
    "classifierArray"
   ]
  },
  {
   "cell_type": "markdown",
   "metadata": {},
   "source": [
    "代码中对于D权重向量的更新如下：\n",
    "\n",
    "    expon = multiply(-1*alpha*mat(classLabels).T, classEst)\n",
    "    D = multiply(D, exp(expon))\n",
    "    D = D/D.sum()\n",
    "\n",
    "这段代码表明了数据的classLabel与单层决策树分类的出来的classEst同号时，即为分类正确，得到的指数位置为$-\\alpha$，否则分类错误则为$\\alpha$。\n",
    "numpy.multiply函数是**element-wise product**，表示对应元素相乘。代码中为两个向量的对应元素相乘，这里不是线性代数中的点积。"
   ]
  },
  {
   "cell_type": "markdown",
   "metadata": {},
   "source": [
    "### 测试算法：基于AdaBoost的分类"
   ]
  },
  {
   "cell_type": "code",
   "execution_count": 286,
   "metadata": {},
   "outputs": [
    {
     "data": {
      "text/plain": [
       "<module 'adaboost' from 'adaboost.pyc'>"
      ]
     },
     "execution_count": 286,
     "metadata": {},
     "output_type": "execute_result"
    }
   ],
   "source": [
    "reload(adaboost)"
   ]
  },
  {
   "cell_type": "code",
   "execution_count": 287,
   "metadata": {},
   "outputs": [],
   "source": [
    "datArr, labelArr = adaboost.loadSimpleData()"
   ]
  },
  {
   "cell_type": "code",
   "execution_count": 288,
   "metadata": {},
   "outputs": [
    {
     "name": "stdout",
     "output_type": "stream",
     "text": [
      "D:  [[ 0.2  0.2  0.2  0.2  0.2]]\n",
      "classEst:  [[-1.  1. -1. -1.  1.]]\n",
      "aggClassEst： [[-0.69314718  0.69314718 -0.69314718 -0.69314718  0.69314718]]\n",
      "total error:  0.2\n",
      "D:  [[ 0.5    0.125  0.125  0.125  0.125]]\n",
      "classEst:  [[ 1.  1. -1. -1. -1.]]\n",
      "aggClassEst： [[ 0.27980789  1.66610226 -1.66610226 -1.66610226 -0.27980789]]\n",
      "total error:  0.2\n",
      "D:  [[ 0.28571429  0.07142857  0.07142857  0.07142857  0.5       ]]\n",
      "classEst:  [[ 1.  1.  1.  1.  1.]]\n",
      "aggClassEst： [[ 1.17568763  2.56198199 -0.77022252 -0.77022252  0.61607184]]\n",
      "total error:  0.0\n"
     ]
    }
   ],
   "source": [
    "classifierArr, aggClassEst = adaboost.adaBoostTrainDS(datArr, labelArr, 30)"
   ]
  },
  {
   "cell_type": "code",
   "execution_count": 289,
   "metadata": {},
   "outputs": [
    {
     "data": {
      "text/plain": [
       "[{'alpha': 0.6931471805599453, 'dim': 0, 'ineq': 'lt', 'thresh': 1.3},\n",
       " {'alpha': 0.9729550745276565, 'dim': 1, 'ineq': 'lt', 'thresh': 1.0},\n",
       " {'alpha': 0.8958797346140273,\n",
       "  'dim': 0,\n",
       "  'ineq': 'lt',\n",
       "  'thresh': 0.90000000000000002}]"
      ]
     },
     "execution_count": 289,
     "metadata": {},
     "output_type": "execute_result"
    }
   ],
   "source": [
    "classifierArr"
   ]
  },
  {
   "cell_type": "code",
   "execution_count": 290,
   "metadata": {},
   "outputs": [
    {
     "data": {
      "text/plain": [
       "matrix([[-1.]])"
      ]
     },
     "execution_count": 290,
     "metadata": {},
     "output_type": "execute_result"
    }
   ],
   "source": [
    "adaboost.adaClassify([0, 0], classifierArr)"
   ]
  },
  {
   "cell_type": "markdown",
   "metadata": {},
   "source": [
    "可以发现，随着迭代进行，数据点[0,0]的分类结果越来越强。"
   ]
  },
  {
   "cell_type": "code",
   "execution_count": 291,
   "metadata": {},
   "outputs": [
    {
     "data": {
      "text/plain": [
       "matrix([[ 1.]])"
      ]
     },
     "execution_count": 291,
     "metadata": {},
     "output_type": "execute_result"
    }
   ],
   "source": [
    "adaboost.adaClassify([5, 5], classifierArr)"
   ]
  },
  {
   "cell_type": "code",
   "execution_count": 295,
   "metadata": {},
   "outputs": [
    {
     "data": {
      "text/plain": [
       "<module 'adaboost' from 'adaboost.py'>"
      ]
     },
     "execution_count": 295,
     "metadata": {},
     "output_type": "execute_result"
    }
   ],
   "source": [
    "reload(adaboost)"
   ]
  },
  {
   "cell_type": "code",
   "execution_count": 296,
   "metadata": {},
   "outputs": [],
   "source": [
    "datArr, labelArr = adaboost.loadDataSet('horseColicTraining2.txt')"
   ]
  },
  {
   "cell_type": "code",
   "execution_count": 297,
   "metadata": {},
   "outputs": [
    {
     "name": "stdout",
     "output_type": "stream",
     "text": [
      "total error:  0.367892976589\n",
      "total error:  0.367892976589\n",
      "total error:  0.357859531773\n",
      "total error:  0.351170568562\n",
      "total error:  0.351170568562\n",
      "total error:  0.351170568562\n",
      "total error:  0.347826086957\n",
      "total error:  0.351170568562\n",
      "total error:  0.351170568562\n",
      "total error:  0.354515050167\n"
     ]
    }
   ],
   "source": [
    "classifierArray,aggClassEst = adaboost.adaBoostTrainDS(datArr, labelArr, 10)"
   ]
  },
  {
   "cell_type": "code",
   "execution_count": 298,
   "metadata": {},
   "outputs": [],
   "source": [
    "testArr, testLabelArr = adaboost.loadDataSet('horseColicTest2.txt')"
   ]
  },
  {
   "cell_type": "code",
   "execution_count": 299,
   "metadata": {},
   "outputs": [],
   "source": [
    "prediction10 = adaboost.adaClassify(testArr, classifierArray)"
   ]
  },
  {
   "cell_type": "code",
   "execution_count": 300,
   "metadata": {},
   "outputs": [],
   "source": [
    "errArr = np.mat(np.ones((67,1)))"
   ]
  },
  {
   "cell_type": "code",
   "execution_count": 301,
   "metadata": {},
   "outputs": [
    {
     "data": {
      "text/plain": [
       "22.0"
      ]
     },
     "execution_count": 301,
     "metadata": {},
     "output_type": "execute_result"
    }
   ],
   "source": [
    "errArr[prediction10!=mat(testLabelArr).T].sum()"
   ]
  },
  {
   "cell_type": "code",
   "execution_count": 302,
   "metadata": {},
   "outputs": [],
   "source": [
    "errRate = errArr[prediction10!=mat(testLabelArr).T].sum() / 67"
   ]
  },
  {
   "cell_type": "code",
   "execution_count": 303,
   "metadata": {},
   "outputs": [
    {
     "data": {
      "text/plain": [
       "0.32835820895522388"
      ]
     },
     "execution_count": 303,
     "metadata": {},
     "output_type": "execute_result"
    }
   ],
   "source": [
    "errRate"
   ]
  },
  {
   "cell_type": "markdown",
   "metadata": {},
   "source": [
    "我们可以把弱分类器想成是SVM中的一个核函数，也可以按照最大化某个最小间隔的方式重写AdaBoost算法。"
   ]
  },
  {
   "cell_type": "markdown",
   "metadata": {},
   "source": [
    "### 非均衡分类问题"
   ]
  },
  {
   "cell_type": "markdown",
   "metadata": {},
   "source": [
    "在《机器学习实战》这本书中的算法都是基于**错误率**来衡量分类器任务的成功程度的。错误率是指**在所有测试样例中错分样例的比例** 。\n",
    "\n",
    "我们经常使用**混淆矩阵(confusion matrix)** 来作为帮助人们更好地了解分类错误的工具。\n",
    "\n",
    "|||||\n",
    "|--|--|--|--|\n",
    "|||预测结果||\n",
    "|||+1|-1|\n",
    "|真实结果|+1|真正例,真阳(TP)|伪反例，假阴(FN)|\n",
    "|真实结果|-1|伪正例，假阳(FP)|真反例，真阴(TN)|\n",
    "\n",
    "$$\\mathbf{正确率(Accuracy)} = \\frac{TP}{TP+FP}$$\n",
    "$$\\mathbf{召回率(Recall)} = \\frac{TP}{TP+FN}$$\n",
    "\n",
    "准确率表示的是预测为正例的样本的真正正例的比例。召回率表示的是预测为正例的样本占所有真实正例的比例。\n",
    "\n",
    "准确率衡量的可以是预测的癌症病人中有些人不是真的得了癌症，即真的得了癌症的病人比例。召回率是一些真的得了癌症的病人没有预测出来。这个就很可怕了，所以对于癌症预测一般要提高召回率。\n",
    "\n",
    "另一个用于度量分类中非均衡性的工具是**ROC曲线(ROC curve)** , ROC代表接收者操作特征(receiver operating characteristic)。ROC曲线不仅可以用于比较分类器，也可以基于成本效益(cost-versus-benefit)分析来做出决策。\n",
    "\n",
    "ROC曲线的横坐标为假阳率(即FP/(FP+TN))，纵坐标为真阳率(TP/(TP+FN))。\n",
    "\n",
    "理想情况下，**最佳的分类器应该尽可能位于左上角**。即在假阳率很低的情况下，真阳率很高。\n",
    "\n",
    "对于不同的ROC曲线，比较曲线下的面积(Area Unser the Curve, AUC)。AUC给出的是分类器的平均性能值，当然它不能完全代替对整条曲线的观察。完美分类器的AUC为1.0，随机猜测的AUC为0.5。"
   ]
  },
  {
   "cell_type": "code",
   "execution_count": 313,
   "metadata": {},
   "outputs": [
    {
     "data": {
      "text/plain": [
       "<module 'adaboost' from 'adaboost.py'>"
      ]
     },
     "execution_count": 313,
     "metadata": {},
     "output_type": "execute_result"
    }
   ],
   "source": [
    "reload(adaboost)"
   ]
  },
  {
   "cell_type": "code",
   "execution_count": 314,
   "metadata": {},
   "outputs": [],
   "source": [
    "datArr, labelArr = adaboost.loadDataSet('horseColicTraining2.txt')"
   ]
  },
  {
   "cell_type": "code",
   "execution_count": 315,
   "metadata": {},
   "outputs": [
    {
     "name": "stdout",
     "output_type": "stream",
     "text": [
      "total error:  0.367892976589\n",
      "total error:  0.367892976589\n",
      "total error:  0.357859531773\n",
      "total error:  0.351170568562\n",
      "total error:  0.351170568562\n",
      "total error:  0.351170568562\n",
      "total error:  0.347826086957\n",
      "total error:  0.351170568562\n",
      "total error:  0.351170568562\n",
      "total error:  0.354515050167\n"
     ]
    }
   ],
   "source": [
    "classifierArray, aggClassEst = adaboost.adaBoostTrainDS(datArr, labelArr, 10)"
   ]
  },
  {
   "cell_type": "code",
   "execution_count": 316,
   "metadata": {},
   "outputs": [
    {
     "data": {
      "image/png": "[encoded data removed]",
      "text/plain": [
       "<matplotlib.figure.Figure at 0x8f951d0>"
      ]
     },
     "metadata": {},
     "output_type": "display_data"
    },
    {
     "name": "stdout",
     "output_type": "stream",
     "text": [
      "the Area under the Curve is:  0.675735908627\n"
     ]
    }
   ],
   "source": [
    "adaboost.plotROC(aggClassEst.T, labelArr)"
   ]
  },
  {
   "cell_type": "markdown",
   "metadata": {},
   "source": [
    "还有一些处理非均衡数据的方法，比如**代价敏感学习(cost-sensitive learning)** 。此外，还可以对训练数据进行改造，比如**欠抽样(undersampling)** 或者**过抽样(oversampling)** 来实现。过抽样意味着复制样例，而欠抽样意味着删除样例。"
   ]
  },
  {
   "cell_type": "code",
   "execution_count": null,
   "metadata": {},
   "outputs": [],
   "source": []
  }
 ],
 "metadata": {
  "kernelspec": {
   "display_name": "Python 2",
   "language": "python",
   "name": "python2"
  },
  "language_info": {
   "codemirror_mode": {
    "name": "ipython",
    "version": 2
   },
   "file_extension": ".py",
   "mimetype": "text/x-python",
   "name": "python",
   "nbconvert_exporter": "python",
   "pygments_lexer": "ipython2",
   "version": "2.7.13"
  },
  "toc": {
   "nav_menu": {},
   "number_sections": true,
   "sideBar": true,
   "skip_h1_title": false,
   "toc_cell": false,
   "toc_position": {},
   "toc_section_display": "block",
   "toc_window_display": false
  }
 },
 "nbformat": 4,
 "nbformat_minor": 2
}
